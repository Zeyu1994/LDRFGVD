{
 "cells": [
  {
   "cell_type": "code",
   "execution_count": 7,
   "metadata": {},
   "outputs": [],
   "source": [
    "#!/usr/bin/env python3\n",
    "import importlib  # reload the module \n",
    "import os\n",
    "import torch\n",
    "import torch.nn as nn\n",
    "import numpy as np\n",
    "from network import HybridCNN\n",
    "from data_loader.birds_loader import BirdsDataLoader\n",
    "\n",
    "data_root = '/Users/rhonin/Desktop/Github/Learning_Deep_Representations/cvpr2016_cub'\n",
    "image_dir = os.path.join(data_root, 'images')\n",
    "text_dir = os.path.join(data_root, 'text_c10')\n",
    "manifest_file = os.path.join(data_root, 'manifest.txt')\n",
    "data_loader = BirdsDataLoader(image_dir, text_dir, manifest_file)\n",
    "\n"
   ]
  },
  {
   "cell_type": "code",
   "execution_count": 2,
   "metadata": {},
   "outputs": [
    {
     "name": "stdout",
     "output_type": "stream",
     "text": [
      "(201, 71)\n"
     ]
    }
   ],
   "source": [
    "iterations = 1\n",
    "ite = 0\n",
    "while ite < iterations:\n",
    "    data = next(iter(data_loader))\n",
    "    print(data[2][2].shape)\n",
    "    ite += 1\n"
   ]
  },
  {
   "cell_type": "code",
   "execution_count": 42,
   "metadata": {},
   "outputs": [],
   "source": [
    "importlib.reload(HybridCNN)\n",
    "text = [np.transpose(i[2]) for i in data]\n",
    "net = HybridCNN.TextEncoder(alphasize = 71, emb_dim = 0)\n",
    "d = torch.FloatTensor(text)"
   ]
  },
  {
   "cell_type": "code",
   "execution_count": 43,
   "metadata": {},
   "outputs": [
    {
     "data": {
      "text/plain": [
       "torch.Size([40, 71, 201])"
      ]
     },
     "execution_count": 43,
     "metadata": {},
     "output_type": "execute_result"
    }
   ],
   "source": [
    "d.shape"
   ]
  },
  {
   "cell_type": "code",
   "execution_count": 44,
   "metadata": {},
   "outputs": [],
   "source": [
    "cnn_output = net(d)"
   ]
  },
  {
   "cell_type": "code",
   "execution_count": 45,
   "metadata": {},
   "outputs": [
    {
     "data": {
      "text/plain": [
       "torch.Size([40, 256])"
      ]
     },
     "execution_count": 45,
     "metadata": {},
     "output_type": "execute_result"
    }
   ],
   "source": [
    "cnn_output.shape"
   ]
  },
  {
   "cell_type": "code",
   "execution_count": null,
   "metadata": {},
   "outputs": [],
   "source": []
  }
 ],
 "metadata": {
  "kernelspec": {
   "display_name": "Python 3",
   "language": "python",
   "name": "python3"
  },
  "language_info": {
   "codemirror_mode": {
    "name": "ipython",
    "version": 3
   },
   "file_extension": ".py",
   "mimetype": "text/x-python",
   "name": "python",
   "nbconvert_exporter": "python",
   "pygments_lexer": "ipython3",
   "version": "3.6.5"
  }
 },
 "nbformat": 4,
 "nbformat_minor": 2
}
